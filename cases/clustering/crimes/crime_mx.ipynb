{
 "cells": [
  {
   "cell_type": "markdown",
   "metadata": {
    "id": "Qnlmp8rwFWNP"
   },
   "source": [
    "# Crime clustering \n"
   ]
  },
  {
   "cell_type": "markdown",
   "metadata": {
    "id": "wwtcBU02FWNT"
   },
   "source": [
    "## Data"
   ]
  },
  {
   "cell_type": "markdown",
   "metadata": {
    "id": "wcQWsBNG9K62"
   },
   "source": [
    "* **ENTITY_CODE** : ID Number.\n",
    "* **STATE** : State's name.\n",
    "* **ID** : Official name's abbreviation.\n",
    "* **HOMICIDES*** : The act of one human killing another.\n",
    "* **CAR_THEFT*** : Total or partial theft of vehicle.\n",
    "* **EXTORTION*** : Intimidation to perform an act to the detriment of your patrimony.\n",
    "* **STREET_TRANSPORT_THEFT*** : Robbery/Theft or assault on the street or public transportation.\n",
    "* **HOME_THEFT*** : Home theft.\n",
    "* **FRAUD*** : Delivery of money for a product or service that was not received as agreed.\n",
    "* **POPULATION** : Total number of inhabitants in the entity$^{4}$.\n",
    "* **URBAN_PP** : Percentage of urban population$^{4}$.\n",
    "\n",
    "_* Crime prevalence rate by state per hundred thousand inhabitants_\n",
    "https://github.com/isaacarroyov/crime_analysis_mx2017"
   ]
  },
  {
   "cell_type": "markdown",
   "metadata": {
    "id": "_gSTmj9CFWNU"
   },
   "source": [
    "## Exploratory Data Analysis"
   ]
  },
  {
   "cell_type": "markdown",
   "metadata": {
    "id": "EDixnwByFWNV"
   },
   "source": [
    "### Import relevant libraries"
   ]
  },
  {
   "cell_type": "code",
   "execution_count": null,
   "metadata": {
    "id": "kcLzlSGxFWNV"
   },
   "outputs": [],
   "source": [
    "import numpy as np\n",
    "import pandas as pd\n",
    "import matplotlib.pyplot as plt\n",
    "import seaborn as sns\n",
    "\n",
    "%matplotlib inline"
   ]
  },
  {
   "cell_type": "code",
   "execution_count": null,
   "metadata": {
    "colab": {
     "base_uri": "https://localhost:8080/",
     "height": 348
    },
    "id": "y5aj-s08FWNZ",
    "outputId": "525d11ec-eb65-4370-bfd6-0e8522746273"
   },
   "outputs": [],
   "source": [
    "#import the csv as a Data Frame\n",
    "df = pd.read_csv('crimes_mx.csv', encoding='ISO-8859-1')\n",
    "df.head(10)"
   ]
  },
  {
   "cell_type": "code",
   "execution_count": null,
   "metadata": {
    "colab": {
     "base_uri": "https://localhost:8080/"
    },
    "id": "6XfeLb9BFWNh",
    "outputId": "c46a1311-481b-4da4-b3fc-fe7f60c2dc26"
   },
   "outputs": [],
   "source": [
    "#number of columns and rows \n",
    "df.shape"
   ]
  },
  {
   "cell_type": "code",
   "execution_count": null,
   "metadata": {
    "colab": {
     "base_uri": "https://localhost:8080/"
    },
    "id": "KqvDMLU_FWNk",
    "outputId": "72fe83e1-c123-4385-a6e5-b9be2552d945"
   },
   "outputs": [],
   "source": [
    "#name of the columns\n",
    "df.columns"
   ]
  },
  {
   "cell_type": "markdown",
   "metadata": {
    "id": "GX7RvDlbG5iE"
   },
   "source": [
    "A statistical summary of the data is shown below."
   ]
  },
  {
   "cell_type": "code",
   "execution_count": null,
   "metadata": {
    "colab": {
     "base_uri": "https://localhost:8080/"
    },
    "id": "zOIhn7CyFWNr",
    "outputId": "f01c3c8a-c297-448f-cf40-de8acdf24d54"
   },
   "outputs": [],
   "source": [
    "#relevant stats ordered in descending order (by the mean)\n",
    "df.describe().transpose().iloc[1:].sort_values(by = 'mean', ascending = False)"
   ]
  },
  {
   "cell_type": "markdown",
   "metadata": {
    "id": "iX2IkTEYFWNv"
   },
   "source": [
    "### Data distribution"
   ]
  },
  {
   "cell_type": "markdown",
   "metadata": {
    "id": "sOhHPUc8I7bP"
   },
   "source": [
    "As part of the analysis, the distribution of the variables will be shown through histograms."
   ]
  },
  {
   "cell_type": "code",
   "execution_count": null,
   "metadata": {
    "colab": {
     "base_uri": "https://localhost:8080/"
    },
    "id": "djDQks0LFWNv",
    "outputId": "b1db45d6-d43a-45ff-9bef-bf931edbb9fa"
   },
   "outputs": [],
   "source": [
    "df.iloc[:,3:].hist( figsize=(18,15) )\n",
    "plt.show()"
   ]
  },
  {
   "cell_type": "markdown",
   "metadata": {
    "id": "WIOvFQH2FWNy"
   },
   "source": [
    "### Bar charts"
   ]
  },
  {
   "cell_type": "markdown",
   "metadata": {
    "id": "mI4eKcSRJFgx"
   },
   "source": [
    "An interesting analysis is to show the different distributions of variables by state"
   ]
  },
  {
   "cell_type": "code",
   "execution_count": null,
   "metadata": {
    "scrolled": false
   },
   "outputs": [],
   "source": [
    "variables = df.columns.values[3:]\n",
    "\n",
    "plt.figure( figsize=(20,20) )\n",
    "\n",
    "\n",
    "for i in range(len(variables)):\n",
    "\n",
    "    col_name=variables[i]\n",
    "\n",
    "    plt.subplot( 4, 2, i+1 )\n",
    "    plt.bar( df['ID'], df[col_name])\n",
    "    \n",
    "    #add title and labels on the axes\n",
    "    plt.title( col_name, size = 15 )\n",
    "    plt.xlabel( 'State [ ID ]', size = 10 )\n",
    "    plt.xticks( rotation = 90 )\n",
    "    plt.tick_params( labelsize = 15 )\n",
    "    plt.subplots_adjust( bottom= -0.05)\n",
    "\n",
    "plt.show()"
   ]
  },
  {
   "cell_type": "code",
   "execution_count": null,
   "metadata": {
    "colab": {
     "base_uri": "https://localhost:8080/"
    },
    "id": "YzOXpjuWFWNz",
    "outputId": "8f0c68b5-4544-4bd7-dedd-93ee4b492d9b",
    "scrolled": false
   },
   "outputs": [],
   "source": [
    "\n",
    "#titles \n",
    "titles = ['Crimes by State. \\nType: Homicides',\n",
    "           'Crimes by State. \\nType: Car theft', 'Crimes by State. \\nType: Extortion',\n",
    "           'Crimes by State. \\nType: Theft/Assault on the street or public transportation', \n",
    "           'Crimes by State. \\nType: Home theft', 'Crimes by State. \\nType: Fraud',\n",
    "          ]\n",
    "\n",
    "\n",
    "#dropped 'POBLACION' and 'PP_URBANA' in order to have the crime variables\n",
    "variables = df.columns.values[3:]\n",
    "\n",
    "#create a figure\n",
    "plt.figure( figsize=(20,25) )\n",
    "\n",
    "\n",
    "for i in range(len(variables)):\n",
    "\n",
    "    col_name=variables[i]\n",
    "    df_i = df.sort_values( by = col_name, ascending = False )\n",
    "\n",
    "    #create a subplot\n",
    "    plt.subplot( 4, 2, i+1 )\n",
    "\n",
    "    #make the bar chart\n",
    "    plt.bar( df_i['ID'], df_i[col_name])\n",
    "    \n",
    "    #add title and labels on the axes\n",
    "    plt.title( col_name, size = 20 )\n",
    "    plt.xlabel( 'State [ ID ]', size = 15 )\n",
    "    plt.xticks( rotation = 90 )\n",
    "    plt.tick_params( labelsize = 10)\n",
    "\n",
    "#adjust subplots\n",
    "plt.subplots_adjust(bottom=-0.05)\n",
    "plt.show()"
   ]
  },
  {
   "cell_type": "markdown",
   "metadata": {
    "id": "dvvQ22WDFWN2"
   },
   "source": [
    "### Correlation of the variables"
   ]
  },
  {
   "cell_type": "markdown",
   "metadata": {
    "id": "USehpcYoKkQb"
   },
   "source": [
    "For this analysis only the most important variables will be taken, these are:\n",
    "\n",
    "1. **CAR_THEFT**\n",
    "2. **STREET_TRANSPORT_THEFT**\n",
    "3. **EXTORTION**\n",
    "4. **HOMICIDES**\n",
    "\n",
    "The correlation between these four variables will be shown below for a better perspective of the problem:"
   ]
  },
  {
   "cell_type": "code",
   "execution_count": null,
   "metadata": {
    "colab": {
     "base_uri": "https://localhost:8080/"
    },
    "id": "3VSCRVzaFWOA",
    "outputId": "ee1743b9-ab22-4b10-801f-7991c08dd6ad"
   },
   "outputs": [],
   "source": [
    "plt.figure( figsize=(7,5))\n",
    "\n",
    "sns.heatmap( df[variables].corr().round(3), annot = True  )\n",
    "plt.xticks( rotation = 90 )\n",
    "plt.yticks( rotation = 0 )\n",
    "\n",
    "plt.show()"
   ]
  },
  {
   "cell_type": "markdown",
   "metadata": {
    "id": "payXvpHsFWOE"
   },
   "source": [
    "## Standardization"
   ]
  },
  {
   "cell_type": "code",
   "execution_count": null,
   "metadata": {
    "colab": {
     "base_uri": "https://localhost:8080/"
    },
    "id": "JJD8aaNIFWOJ",
    "outputId": "05e24b11-e727-4ef0-8143-450ec3c514e7"
   },
   "outputs": [],
   "source": [
    "#Here we standardize a dataset along any axis. Center to the mean and component wise scale to unit variance.\n",
    "from sklearn import preprocessing\n",
    "df_standardized = preprocessing.scale( df[variables] )\n",
    "df_standardized = pd.DataFrame( df_standardized )"
   ]
  },
  {
   "cell_type": "markdown",
   "metadata": {},
   "source": [
    "## Distorsion"
   ]
  },
  {
   "cell_type": "code",
   "execution_count": null,
   "metadata": {
    "colab": {
     "base_uri": "https://localhost:8080/"
    },
    "id": "oZIXoT8rFWOS",
    "outputId": "5ca060ac-e101-4637-e457-6862cf8f2cc4"
   },
   "outputs": [],
   "source": [
    "from sklearn.cluster import KMeans \n",
    "\n",
    "inertia = []\n",
    "\n",
    "max_k=20\n",
    "\n",
    "for i in range(1, 20):\n",
    "    kmeans = KMeans(n_clusters = i, init = 'k-means++', random_state = 11)\n",
    "    kmeans.fit(df_standardized)\n",
    "    inertia.append(kmeans.inertia_)\n"
   ]
  },
  {
   "cell_type": "code",
   "execution_count": null,
   "metadata": {
    "colab": {
     "base_uri": "https://localhost:8080/"
    },
    "id": "5rETtiHIFWOU",
    "outputId": "7909bf1f-d109-4f00-b933-84d26839b7c9"
   },
   "outputs": [],
   "source": [
    "plt.figure( figsize=(10,6))\n",
    "\n",
    "plt.plot(range(1, max_k), inertia,   marker = '+')\n",
    "plt.xlabel('Number of clusters')\n",
    "plt.ylabel('inertia')\n",
    "plt.tick_params( labelsize = 10 )\n",
    "\n",
    "plt.show()"
   ]
  },
  {
   "cell_type": "markdown",
   "metadata": {
    "id": "zzLIg7peFWOX"
   },
   "source": [
    "###  Silhouette "
   ]
  },
  {
   "cell_type": "code",
   "execution_count": null,
   "metadata": {
    "id": "1AGUJRoiFWOb"
   },
   "outputs": [],
   "source": [
    "from sklearn.metrics import silhouette_samples, silhouette_score"
   ]
  },
  {
   "cell_type": "code",
   "execution_count": null,
   "metadata": {
    "colab": {
     "base_uri": "https://localhost:8080/"
    },
    "id": "8waD-PhAFWOh",
    "outputId": "fc252244-69b5-400a-bc11-30138dbdd9e5"
   },
   "outputs": [],
   "source": [
    "silhouette_score(df_standardized,  kmeans.labels_)"
   ]
  },
  {
   "cell_type": "code",
   "execution_count": null,
   "metadata": {
    "colab": {
     "base_uri": "https://localhost:8080/"
    },
    "id": "r-zWlsPbFWOj",
    "outputId": "f6736933-80e6-46f9-d827-d7b8d78828f3"
   },
   "outputs": [],
   "source": [
    "sil=[]\n",
    "for i in range(3,max_k):\n",
    "    kmeans = KMeans(n_clusters = i, init = 'k-means++', random_state = 11)\n",
    "    kmeans.fit(df_standardized)\n",
    "    sil_score=silhouette_score(df_standardized,  kmeans.labels_)\n",
    "    sil.append(sil_score) \n",
    "    "
   ]
  },
  {
   "cell_type": "code",
   "execution_count": null,
   "metadata": {
    "colab": {
     "base_uri": "https://localhost:8080/"
    },
    "id": "rdg7qXPpFWOm",
    "outputId": "ff6e1489-ef5c-424e-cff4-5883d27064fc"
   },
   "outputs": [],
   "source": [
    "plt.figure( figsize=(10,6))\n",
    "\n",
    "plt.plot(range(3, max_k), sil,   marker = '+')\n",
    "plt.xlabel('Number of clusters')\n",
    "plt.ylabel('silhouette')\n",
    "plt.tick_params( labelsize = 10 )\n",
    "\n",
    "plt.show()"
   ]
  },
  {
   "cell_type": "markdown",
   "metadata": {
    "id": "WXZPZpkPFWOv"
   },
   "source": [
    "## Clustering  "
   ]
  },
  {
   "cell_type": "code",
   "execution_count": null,
   "metadata": {
    "id": "EdkwAqCvFWOw"
   },
   "outputs": [],
   "source": [
    "#Use of n_clusters = 5\n",
    "kmeans = KMeans( n_clusters=5, init='k-means++', random_state=11 )\n",
    "\n",
    "#train and prediction on our normalized data\n",
    "predicted_y = kmeans.fit_predict( df_standardized )\n",
    "\n",
    "#numbers of cluster goes from 0 to 4, we're adding +1 to the array\n",
    "predicted_y = predicted_y + 1 \n",
    "\n",
    "predicted_y"
   ]
  },
  {
   "cell_type": "code",
   "execution_count": null,
   "metadata": {
    "id": "YHX0YJsruLgO"
   },
   "outputs": [],
   "source": [
    "df['CLUSTER'] = predicted_y\n",
    "df[ ['CLUSTER', 'STATE'] ]"
   ]
  },
  {
   "cell_type": "markdown",
   "metadata": {
    "id": "iFCj598wFWO2"
   },
   "source": [
    "## Analysis of the output"
   ]
  },
  {
   "cell_type": "markdown",
   "metadata": {
    "id": "9HSMepppFWO3"
   },
   "source": [
    "### Distribution of the variables"
   ]
  },
  {
   "cell_type": "markdown",
   "metadata": {
    "id": "mcYpZ3nQ1T5W"
   },
   "source": [
    "The following graph shows the correlation of each of the selected variables and each of the _clusters_ in colour."
   ]
  },
  {
   "cell_type": "code",
   "execution_count": null,
   "metadata": {},
   "outputs": [],
   "source": [
    "df.head()"
   ]
  },
  {
   "cell_type": "code",
   "execution_count": null,
   "metadata": {},
   "outputs": [],
   "source": [
    "colours_cluster = ['#004777', '#A30000', '#FF7700','#F564A9', '#00AFB5']\n",
    "\n",
    "plt.subplots(2, 4,figsize=(15,3)  )\n",
    "for i, col in enumerate(df.columns[3:-1]):\n",
    "    plt.subplot(2,4, i+1)\n",
    "    for j in range(1,6):\n",
    "        sns.kdeplot(df.loc[df['CLUSTER'] == j, col], shade=True, label=j, color=colours_cluster[j-1])\n",
    "    plt.title(col)\n",
    "    if i == 3:\n",
    "        plt.legend(loc='upper right')\n",
    "    else:\n",
    "        plt.legend().remove()\n",
    "        \n",
    "plt.subplots_adjust(bottom=-1)\n"
   ]
  },
  {
   "cell_type": "markdown",
   "metadata": {},
   "source": [
    "- CLUSTER 1: rural - safe\n",
    "- CLUSTER 2: semi-rural - extorsion \n",
    "- CLUSTER 3: big urban  - fraud, street theft, homicides\n",
    "- CLUSTER 4: urban - home/car theft\n",
    "- CLUSTER 5: urban - safe (homicide big variance)"
   ]
  },
  {
   "cell_type": "markdown",
   "metadata": {
    "id": "jesPijJsFWPA"
   },
   "source": [
    "### Geographical position"
   ]
  },
  {
   "cell_type": "code",
   "execution_count": null,
   "metadata": {
    "id": "MS4s_m7pFWPB"
   },
   "outputs": [],
   "source": [
    "df_dict = df.set_index( 'ID' )['CLUSTER']\n",
    "\n",
    "states_geo = 'states_mx.json'\n",
    "\n",
    "#use folium to create map\n",
    "import folium\n",
    "map_mex = folium.Map( location = [24,-102], zoom_start = 4.5 )\n",
    "\n",
    "#colour a state according to its cluster\n",
    "def my_color_function(feature):\n",
    "    if df_dict[feature['id']] == 1:\n",
    "        return colours_cluster[0]\n",
    "    elif df_dict[feature['id']] == 2:\n",
    "        return colours_cluster[1]\n",
    "    elif df_dict[feature['id']] == 3:\n",
    "        return colours_cluster[2]\n",
    "    elif df_dict[feature['id']] == 4:\n",
    "        return colours_cluster[3]\n",
    "    elif df_dict[feature['id']] == 5:\n",
    "        return colours_cluster[4]"
   ]
  },
  {
   "cell_type": "code",
   "execution_count": null,
   "metadata": {
    "colab": {
     "base_uri": "https://localhost:8080/",
     "height": 992
    },
    "id": "aRNgtX00FWPD",
    "outputId": "b80e8314-624b-4009-ce14-0be691be3377"
   },
   "outputs": [],
   "source": [
    "for i in range(1):\n",
    "    folium.GeoJson(\n",
    "        states_geo,\n",
    "        style_function=lambda feature: {\n",
    "            'fillColor': my_color_function(feature),\n",
    "            'color' : 'black',\n",
    "            'fill_opacity' : .5,\n",
    "            'weight' : 0.5,\n",
    "            }\n",
    "        ).add_to(map_mex)\n",
    "\n",
    "map_mex"
   ]
  },
  {
   "cell_type": "code",
   "execution_count": null,
   "metadata": {},
   "outputs": [],
   "source": []
  },
  {
   "cell_type": "code",
   "execution_count": null,
   "metadata": {},
   "outputs": [],
   "source": []
  }
 ],
 "metadata": {
  "colab": {
   "collapsed_sections": [
    "payXvpHsFWOE"
   ],
   "name": "ClusterAnalysis_CrimesMexico2017_en.ipynb",
   "provenance": []
  },
  "hide_input": false,
  "kernelspec": {
   "display_name": "Python 3",
   "language": "python",
   "name": "python3"
  },
  "language_info": {
   "codemirror_mode": {
    "name": "ipython",
    "version": 3
   },
   "file_extension": ".py",
   "mimetype": "text/x-python",
   "name": "python",
   "nbconvert_exporter": "python",
   "pygments_lexer": "ipython3",
   "version": "3.7.6"
  },
  "latex_envs": {
   "LaTeX_envs_menu_present": true,
   "autoclose": false,
   "autocomplete": true,
   "bibliofile": "biblio.bib",
   "cite_by": "apalike",
   "current_citInitial": 1,
   "eqLabelWithNumbers": true,
   "eqNumInitial": 1,
   "hotkeys": {
    "equation": "Ctrl-E",
    "itemize": "Ctrl-I"
   },
   "labels_anchors": false,
   "latex_user_defs": false,
   "report_style_numbering": false,
   "user_envs_cfg": false
  },
  "toc": {
   "base_numbering": 1,
   "nav_menu": {
    "height": "347px",
    "width": "227px"
   },
   "number_sections": true,
   "sideBar": true,
   "skip_h1_title": false,
   "title_cell": "Table of Contents",
   "title_sidebar": "Contents",
   "toc_cell": false,
   "toc_position": {},
   "toc_section_display": true,
   "toc_window_display": false
  }
 },
 "nbformat": 4,
 "nbformat_minor": 1
}
